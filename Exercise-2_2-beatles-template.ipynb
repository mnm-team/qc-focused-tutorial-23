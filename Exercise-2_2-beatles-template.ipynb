{
 "cells": [
  {
   "cell_type": "code",
   "execution_count": null,
   "id": "c31b4a2d-890d-49ed-a385-1b85cc2a61ca",
   "metadata": {},
   "outputs": [],
   "source": [
    "from pennylane import numpy as np\n",
    "import pennylane as qml"
   ]
  },
  {
   "cell_type": "code",
   "execution_count": null,
   "id": "3e92ff00-a4eb-4592-bbdd-fcf9517a981c",
   "metadata": {},
   "outputs": [],
   "source": []
  },
  {
   "cell_type": "code",
   "execution_count": null,
   "id": "00a7da53-4d5e-4bf1-91d6-dd814b3c5e88",
   "metadata": {},
   "outputs": [],
   "source": [
    "def predict(dataset, new, k):\n",
    "    \"\"\"Function that given a dataset, determines if a new person do like Beatles or not.\n",
    "\n",
    "    Args:\n",
    "        - dataset (list): List with the age, minutes that different people watch TV, and if they like Beatles.\n",
    "        - new (list(int)): Age and TV minutes of the person we want to classify.\n",
    "        - k (int): number of nearby neighbors to be taken into account.\n",
    "\n",
    "    Returns:\n",
    "        - (str): \"YES\" if they like Beatles, \"NO\" otherwise.\n",
    "    \"\"\"\n",
    "\n",
    "    # DO NOT MODIFY anything in this code block\n",
    "\n",
    "    def k_nearest_classes():\n",
    "        \"\"\"Function that returns a list of k near neighbors.\"\"\"\n",
    "        distances = []\n",
    "        for data in dataset:\n",
    "            distances.append(distance(data[0], new))\n",
    "        nearest = []\n",
    "        for _ in range(k):\n",
    "            indx = np.argmin(distances)\n",
    "            nearest.append(indx)\n",
    "            distances[indx] += 2\n",
    "\n",
    "        return [dataset[i][1] for i in nearest]\n",
    "\n",
    "    output = k_nearest_classes()\n",
    "\n",
    "    return (\n",
    "        \"YES\" if len([i for i in output if i == \"YES\"]) > len(output) / 2 else \"NO\",\n",
    "        float(distance(dataset[0][0], new)),\n",
    "    )"
   ]
  },
  {
   "cell_type": "code",
   "execution_count": null,
   "id": "b4c5420d-85cc-4744-ad51-2fda06b4b3a5",
   "metadata": {},
   "outputs": [],
   "source": []
  },
  {
   "cell_type": "code",
   "execution_count": null,
   "id": "c87627fb-25dd-4ce3-9a79-18138223800a",
   "metadata": {},
   "outputs": [],
   "source": [
    "def distance(A, B):\n",
    "    \"\"\"Function that returns the distance between two vectors.\n",
    "\n",
    "    Args:\n",
    "        - A (list[int]): person's information: [age, minutes spent watching TV].\n",
    "        - B (list[int]): person's information: [age, minutes spent watching TV].\n",
    "\n",
    "    Returns:\n",
    "        - (float): distance between the two feature vectors.\n",
    "    \"\"\"\n",
    "\n",
    "    # Encode the data in the qubits\n",
    "    dev = qml.device(\"default.qubit\", wires=1)\n",
    "    @qml.qnode(dev)\n",
    "    def get_state(base_state):\n",
    "        qml.AmplitudeEmbedding(base_state, wires=0, normalize=True)\n",
    "        return qml.state()\n",
    "    \n",
    "    dev = qml.device(\"default.qubit\", wires=3)\n",
    "    @qml.qnode(dev)\n",
    "    def circuit(state):\n",
    "        \n",
    "        # TODO\n",
    "\n",
    "        return qml.expval(qml.PauliZ(wires=0)) # Return the EXPECTATION VALUE of the first qubit\n",
    "\n",
    "    \n",
    "    state_AB = np.kron(get_state(A),get_state(B)) # Transform from two single-qubit states to one multi-qubit state\n",
    "    \n",
    "    # TODO\n",
    "\n",
    "    return distance"
   ]
  },
  {
   "cell_type": "code",
   "execution_count": null,
   "id": "e9a60fe0-0e0b-4b2f-8207-c47e76584773",
   "metadata": {},
   "outputs": [],
   "source": []
  },
  {
   "cell_type": "code",
   "execution_count": null,
   "id": "fbca284f-dc42-4ee9-8a09-25052b37a706",
   "metadata": {},
   "outputs": [],
   "source": [
    "# DO NOT MODIFY anything in this code block\n",
    "test0 = \"23,150,1,13,20,YES,24,200,YES,14,130,NO,50,20,NO\"\n",
    "test1 = \"23,10,1,20,100,YES,25,20,YES,14,130,NO,50,20,YES,60,300,YES,45,30,NO,33,20,NO\"\n",
    "\n",
    "test = test0\n",
    "\n",
    "inputs = test.split(\",\")\n",
    "dataset = []\n",
    "new = [int(inputs[0]), int(inputs[1])]\n",
    "k = int(inputs[2])\n",
    "for i in range(3, len(inputs), 3):\n",
    "    dataset.append([[int(inputs[i + 0]), int(inputs[i + 1])], str(inputs[i + 2])])\n",
    "\n",
    "output = predict(dataset, new, k)\n",
    "sol = 0 if output[0] == \"YES\" else 1\n",
    "print(f\"Solution: {sol},{output[1]}\")"
   ]
  },
  {
   "cell_type": "markdown",
   "id": "deefa7d8-2adc-486b-8dd9-18d811db848b",
   "metadata": {},
   "source": [
    "**Expected Answers**:\n",
    "- test0: 0,0.4210528986556\n",
    "- test1: 0,0.9264606253589677"
   ]
  },
  {
   "cell_type": "code",
   "execution_count": null,
   "id": "ed4b0711-d654-4124-bdbc-39d4fca1d199",
   "metadata": {},
   "outputs": [],
   "source": []
  },
  {
   "cell_type": "code",
   "execution_count": null,
   "id": "e3e566a9-69a5-42f3-83ab-03151342c635",
   "metadata": {},
   "outputs": [],
   "source": [
    "A = [20, 100]\n",
    "B = [23, 10]\n",
    "\n",
    "A = np.array(A)\n",
    "A = A / np.sqrt(np.dot(A,A))\n",
    "B = np.array(B)\n",
    "B = B / np.sqrt(np.dot(B,B))\n",
    "zeroth = np.array([1,0])\n",
    "state_AB = np.kron([1,0],np.kron(A,B))\n",
    "\n",
    "dev = qml.device(\"default.qubit\", wires=3)\n",
    "@qml.qnode(dev)\n",
    "def circuit(state):\n",
    "    # TODO\n",
    "    return qml.probs(op=qml.Identity(0))\n",
    "\n",
    "print(qml.draw_mpl(circuit)(state_AB))"
   ]
  },
  {
   "cell_type": "code",
   "execution_count": null,
   "id": "4d8a30a6-b4c7-4c23-a535-8432359fe197",
   "metadata": {},
   "outputs": [],
   "source": []
  }
 ],
 "metadata": {
  "kernelspec": {
   "display_name": "Python 3 (ipykernel)",
   "language": "python",
   "name": "python3"
  },
  "language_info": {
   "codemirror_mode": {
    "name": "ipython",
    "version": 3
   },
   "file_extension": ".py",
   "mimetype": "text/x-python",
   "name": "python",
   "nbconvert_exporter": "python",
   "pygments_lexer": "ipython3",
   "version": "3.10.4"
  }
 },
 "nbformat": 4,
 "nbformat_minor": 5
}
