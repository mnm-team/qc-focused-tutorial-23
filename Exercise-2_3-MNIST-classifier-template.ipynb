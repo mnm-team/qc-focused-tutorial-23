{
 "cells": [
  {
   "cell_type": "code",
   "execution_count": 1,
   "id": "8100895c",
   "metadata": {},
   "outputs": [],
   "source": [
    "import pennylane as qml\n",
    "from pennylane import numpy as np\n",
    "\n",
    "from sklearn import datasets\n",
    "from sklearn.model_selection import train_test_split\n",
    "from sklearn.decomposition import PCA\n",
    "from sklearn.preprocessing import StandardScaler, MinMaxScaler"
   ]
  },
  {
   "cell_type": "code",
   "execution_count": 3,
   "id": "26225817",
   "metadata": {},
   "outputs": [
    {
     "name": "stdout",
     "output_type": "stream",
     "text": [
      "X = [-0.79923362 -0.26571862 -0.16474421 -0.17815209], Y = -1\n",
      "X = [-0.81630337 -0.2918343  -0.48757339 -0.44903275], Y = -1\n",
      "X = [-0.8857451  -0.29703903 -0.27973225  0.17301948], Y = -1\n",
      "X = [-0.76039807 -0.27000038 -0.26925903  0.32714174], Y = -1\n",
      "X = [-0.73871156 -0.11343435 -0.47219408 -0.49067011], Y = -1\n",
      "X = [ 0.78786325 -0.59573349 -0.4920569   0.05387855], Y =  1\n",
      "X = [ 0.39958822 -0.54294278  0.8919327  -0.61020082], Y =  1\n",
      "X = [ 0.59776664 -0.3451937  -0.95910006  0.02118022], Y =  1\n",
      "X = [ 0.21238989  0.90675747 -0.01334434 -0.16475638], Y =  1\n",
      "X = [ 0.5672546  -0.35245554 -0.42810247  0.62548925], Y =  1\n",
      "...\n"
     ]
    }
   ],
   "source": [
    "# Data preparation\n",
    "\n",
    "# Load digits dataset\n",
    "digits = datasets.load_digits(n_class=2)\n",
    "\n",
    "# Split dataset\n",
    "sample_train, sample_test, label_train, label_test = train_test_split(\n",
    "     digits.data, digits.target, test_size=0.2, random_state=22)\n",
    "\n",
    "# Reduce dimensions\n",
    "n_dim = 4\n",
    "pca = PCA(n_components=n_dim).fit(sample_train)\n",
    "sample_train = pca.transform(sample_train)\n",
    "sample_test = pca.transform(sample_test)\n",
    "\n",
    "# Normalise\n",
    "std_scale = StandardScaler().fit(sample_train)\n",
    "sample_train = std_scale.transform(sample_train)\n",
    "sample_test = std_scale.transform(sample_test)\n",
    "\n",
    "# Scale\n",
    "samples = np.append(sample_train, sample_test, axis=0)\n",
    "minmax_scale = MinMaxScaler((-1, 1)).fit(samples)\n",
    "sample_train = minmax_scale.transform(sample_train)\n",
    "sample_test = minmax_scale.transform(sample_test)\n",
    "\n",
    "# Select\n",
    "train_size = 100\n",
    "X = sample_train[:train_size]\n",
    "Y = label_train[:train_size]\n",
    "\n",
    "test_size = 20\n",
    "sample_test = sample_test[:test_size]\n",
    "label_test = label_test[:test_size]\n",
    "\n",
    "# shift label from {0, 1} to {-1, 1}\n",
    "Y = Y * 2 - np.ones(len(Y)) \n",
    "label_test = label_test * 2 - np.ones(len(label_test))\n",
    "\n",
    "for i in range(10):\n",
    "    print(\"X = {}, Y = {: d}\".format(X[i], int(Y[i])))\n",
    "\n",
    "print(\"...\")"
   ]
  },
  {
   "cell_type": "code",
   "execution_count": 4,
   "id": "cd7471ea",
   "metadata": {},
   "outputs": [],
   "source": [
    "# Initialize quantum device\n",
    "dev = qml.device(\"default.qubit\", wires=4)"
   ]
  },
  {
   "cell_type": "code",
   "execution_count": 6,
   "id": "2c2c321b",
   "metadata": {},
   "outputs": [],
   "source": [
    "def statepreparation(x):\n",
    "    # TODO:\n",
    "    # Encode data to circuit with angle encoding\n",
    "    pass\n",
    "\n",
    "def layer(W):\n",
    "    # TODO:\n",
    "    # Define parametrized ansatz layer\n",
    "    pass\n",
    "\n",
    "@qml.qnode(dev, interface=\"autograd\")\n",
    "def circuit(weights, x):\n",
    "\n",
    "    statepreparation(x)\n",
    "\n",
    "    for W in weights:\n",
    "        layer(W)\n",
    "\n",
    "    return qml.expval(qml.PauliZ(0))"
   ]
  },
  {
   "cell_type": "code",
   "execution_count": 8,
   "id": "159b8f59",
   "metadata": {},
   "outputs": [
    {
     "data": {
      "text/plain": [
       "(<Figure size 400x200 with 1 Axes>, <Axes: >)"
      ]
     },
     "execution_count": 8,
     "metadata": {},
     "output_type": "execute_result"
    },
    {
     "data": {
      "image/png": "[encoded data removed]",
      "text/plain": [
       "<Figure size 400x200 with 1 Axes>"
      ]
     },
     "metadata": {},
     "output_type": "display_data"
    }
   ],
   "source": [
    "#Create initial weights from normal distribution\n",
    "np.random.seed(0)\n",
    "num_qubits = 4\n",
    "num_layers = 2\n",
    "weights_init = 0.01 * np.random.randn(num_layers, num_qubits, 3, requires_grad=True)\n",
    "\n",
    "#print initialized circuit\n",
    "qml.draw_mpl(circuit,decimals=2, expansion_strategy='device')(weights_init,X[0])"
   ]
  },
  {
   "cell_type": "code",
   "execution_count": 9,
   "id": "9d28b69f",
   "metadata": {},
   "outputs": [],
   "source": [
    "# Cost and accuracy functions\n",
    "\n",
    "def cost(weights, data, labels):\n",
    "    # TODO: Implement cost function \n",
    "    # 1. evaluate the parametrized (=weights) circuit for given data\n",
    "    # 2. return the square loss between circuit expecation value and labels\n",
    "    pass\n",
    "\n",
    "def accuracy(weights, data, labels):\n",
    "    # TODO: Implement accuracy function\n",
    "    # 1. evaluate the parametrized (=weights) circuit for given data\n",
    "    # 2. classify the outcomes and compare them to labels\n",
    "    # 3. return percentage of correctly classified data\n",
    "    pass"
   ]
  },
  {
   "cell_type": "code",
   "execution_count": null,
   "id": "742eafc6",
   "metadata": {},
   "outputs": [],
   "source": [
    "# Train model\n",
    "\n",
    "weights = weights_init\n",
    "opt = qml.GradientDescentOptimizer(stepsize=0.4)\n",
    "\n",
    "for it in range(25):\n",
    "\n",
    "    weights = opt.step(cost, weights, X, Y)\n",
    "    \n",
    "    print(\n",
    "        \"Iter: {:5d} | Cost: {:0.7f} | Accuracy: {:0.7f} \".format(\n",
    "            it + 1, cost(weights, X, Y), accuracy(weights, X, Y)\n",
    "        )\n",
    "    )"
   ]
  },
  {
   "cell_type": "code",
   "execution_count": null,
   "id": "2b7299cd",
   "metadata": {},
   "outputs": [],
   "source": [
    "# Evaluate model on test set; accuracy should be at least > 0.75\n",
    "\n",
    "print(\"Evaluate test set:  Cost: {:0.7f} | Accuracy: {:0.7f} \".format(\n",
    "            cost(weights, sample_test, label_test), accuracy(weights, sample_test, label_test)\n",
    "        ))"
   ]
  }
 ],
 "metadata": {
  "kernelspec": {
   "display_name": "Python 3 (ipykernel)",
   "language": "python",
   "name": "python3"
  },
  "language_info": {
   "codemirror_mode": {
    "name": "ipython",
    "version": 3
   },
   "file_extension": ".py",
   "mimetype": "text/x-python",
   "name": "python",
   "nbconvert_exporter": "python",
   "pygments_lexer": "ipython3",
   "version": "3.11.4"
  }
 },
 "nbformat": 4,
 "nbformat_minor": 5
}
